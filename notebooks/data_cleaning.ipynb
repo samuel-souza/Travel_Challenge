{
 "cells": [
  {
   "cell_type": "code",
   "execution_count": null,
   "metadata": {},
   "outputs": [],
   "source": [
    "# LIBS\n",
    "import pandas as pd\n",
    "import os\n",
    "import sys\n",
    "import numpy as np\n",
    "from scipy import stats\n",
    "import matplotlib.pyplot as plt\n",
    "import seaborn as sns \n",
    "import matplotlib.gridspec as gridspec\n",
    "import warnings \n",
    "import dython\n",
    "warnings.filterwarnings('ignore') \n",
    "from cycler import cycler\n",
    "from sklearn import tree\n",
    "from sklearn.preprocessing import OneHotEncoder\n",
    "from sklearn.tree import _tree\n",
    "\n",
    "# CONFIGURAÇÕES\n",
    "\n",
    "pd.set_option('display.max_rows',100)\n",
    "pd.set_option('display.max_columns',100)\n",
    "pd.set_option('display.width', 100)\n",
    "pd.set_option('display.float_format', lambda x: '%.4f' % x)\n",
    "%config InlineBackend.figure_format='retina'\n",
    "seed = 27\n",
    "\n",
    "# DIRETÓRIOS\n",
    "\n",
    "project_data_path = '../data/processed'\n",
    "src_path = '../src/features' \n",
    "# model_filename = 'diretório do modelo'\n",
    "cols = [\n",
    "    'default', 'conta_corrente', 'prazo_emprestimo_meses', 'historico_credito',\n",
    "    'proposito_emprestimo', 'valor_emprestimo', 'reserva_cc', 'tempo_emprego_atual',\n",
    "    'taxa_comp_salario', 'outros_fiadores', 'anos_residencia_atual',\n",
    "    'propriedade', 'idade', 'outros_planos_financiamento', 'tipo_residencia',\n",
    "    'n_creditos_banco', 'status_emprego', 'n_dependentes', 'telefone',\n",
    "    'trabalhador_estrangeiro', 'estado_civil'\n",
    "] # retirar sex_est_civil pois não é utilizado para análise de crédito no Brasil\n",
    "sys.path.insert(0, src_path)"
   ]
  }
 ],
 "metadata": {
  "language_info": {
   "name": "python"
  }
 },
 "nbformat": 4,
 "nbformat_minor": 2
}
