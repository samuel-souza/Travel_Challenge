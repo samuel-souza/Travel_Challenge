{
 "cells": [
  {
   "cell_type": "markdown",
   "metadata": {},
   "source": [
    "# Configurações iniciais"
   ]
  },
  {
   "cell_type": "code",
   "execution_count": 27,
   "metadata": {},
   "outputs": [],
   "source": [
    "# LIBS\n",
    "import os\n",
    "import sys\n",
    "import pandas as pd\n",
    "import numpy as np\n",
    "import matplotlib.pyplot as plt\n",
    "from sklearn.model_selection import train_test_split\n",
    "from nltk.corpus import stopwords\n",
    "from nltk.stem import WordNetLemmatizer\n",
    "from sklearn.feature_extraction.text import TfidfVectorizer\n",
    "from sklearn.pipeline import Pipeline\n",
    "from sklearn.linear_model import LogisticRegression\n",
    "from sklearn.metrics import classification_report, accuracy_score, recall_score, precision_score, f1_score, roc_auc_score\n",
    "from sklearn.model_selection import StratifiedKFold, RandomizedSearchCV, cross_val_score\n",
    "from sklearn.preprocessing import StandardScaler, label_binarize\n",
    "import re\n",
    "import warnings \n",
    "from sklearn.base import BaseEstimator, TransformerMixin\n",
    "warnings.filterwarnings('ignore') \n",
    "import seaborn as sns\n",
    "import joblib\n",
    "\n",
    "# CONFIGURAÇÕES\n",
    "\n",
    "pd.set_option('display.max_rows',100) # Ajustando número máximo de linhas a serem exibidas por dataframes\n",
    "pd.set_option('display.max_columns',100) # Ajustando número máximo de colunas a serem exibidas por dataframes\n",
    "pd.set_option('display.width', 100) # Ajustando tamanho a ser exibido dos valores do dataframe\n",
    "pd.set_option('display.float_format', lambda x: '%.4f' % x) # Ajustando o valor dos valores floats para 4 casas decimais\n",
    "%config InlineBackend.figure_format = 'retina' # Ajustando a nitidez dos gráficos\n",
    "SEED = 27 # Semente para reprodução de pseudo-aleatoriedade\n",
    "\n",
    "# DIRETÓRIOS\n",
    "\n",
    "project_data_path = '../data' # Diretório da base de dados\n",
    "model_path = '../model' # Diretório para o modelo\n",
    "src_path = '../transformers' \n",
    "sys.path.insert(0, src_path)\n",
    "\n",
    "from transformers import CombineTextColumns, FullTextPreprocessor, CustomImputer"
   ]
  },
  {
   "cell_type": "markdown",
   "metadata": {},
   "source": [
    "# Carregando modelo e dados"
   ]
  },
  {
   "cell_type": "code",
   "execution_count": 28,
   "metadata": {},
   "outputs": [],
   "source": [
    "# Carregando a pipeline salva\n",
    "model = joblib.load(os.path.join(model_path, 'model.pkl'))"
   ]
  },
  {
   "cell_type": "code",
   "execution_count": 29,
   "metadata": {},
   "outputs": [
    {
     "data": {
      "text/html": [
       "<div>\n",
       "<style scoped>\n",
       "    .dataframe tbody tr th:only-of-type {\n",
       "        vertical-align: middle;\n",
       "    }\n",
       "\n",
       "    .dataframe tbody tr th {\n",
       "        vertical-align: top;\n",
       "    }\n",
       "\n",
       "    .dataframe thead th {\n",
       "        text-align: right;\n",
       "    }\n",
       "</style>\n",
       "<table border=\"1\" class=\"dataframe\">\n",
       "  <thead>\n",
       "    <tr style=\"text-align: right;\">\n",
       "      <th></th>\n",
       "      <th>Airline Name</th>\n",
       "      <th>Overall_Rating</th>\n",
       "      <th>Review_Title</th>\n",
       "      <th>Review Date</th>\n",
       "      <th>Review</th>\n",
       "      <th>Aircraft</th>\n",
       "      <th>Type Of Traveller</th>\n",
       "      <th>Seat Type</th>\n",
       "      <th>Route</th>\n",
       "      <th>Date Flown</th>\n",
       "      <th>Seat Comfort</th>\n",
       "      <th>Cabin Staff Service</th>\n",
       "      <th>Food &amp; Beverages</th>\n",
       "      <th>Ground Service</th>\n",
       "      <th>Inflight Entertainment</th>\n",
       "      <th>Wifi &amp; Connectivity</th>\n",
       "    </tr>\n",
       "  </thead>\n",
       "  <tbody>\n",
       "    <tr>\n",
       "      <th>6012</th>\n",
       "      <td>Rwandair</td>\n",
       "      <td>7</td>\n",
       "      <td>\"flight attendants full of smiles\"</td>\n",
       "      <td>1st February 2016</td>\n",
       "      <td>I flew with Rwandair for the first time in Jul...</td>\n",
       "      <td>NaN</td>\n",
       "      <td>Business</td>\n",
       "      <td>Business Class</td>\n",
       "      <td>DAR to KGL</td>\n",
       "      <td>July 2015</td>\n",
       "      <td>3.0000</td>\n",
       "      <td>4.0000</td>\n",
       "      <td>3.0000</td>\n",
       "      <td>3.0000</td>\n",
       "      <td>1.0000</td>\n",
       "      <td>1.0000</td>\n",
       "    </tr>\n",
       "    <tr>\n",
       "      <th>11143</th>\n",
       "      <td>Ethiopian Airlines</td>\n",
       "      <td>7</td>\n",
       "      <td>\"helped us when we needed it most\"</td>\n",
       "      <td>28th April 2022</td>\n",
       "      <td>My dad, sister, uncle and I are traveling to...</td>\n",
       "      <td>NaN</td>\n",
       "      <td>Family Leisure</td>\n",
       "      <td>Economy Class</td>\n",
       "      <td>Washington to Harare via Addis Ababa</td>\n",
       "      <td>April 2022</td>\n",
       "      <td>2.0000</td>\n",
       "      <td>4.0000</td>\n",
       "      <td>4.0000</td>\n",
       "      <td>5.0000</td>\n",
       "      <td>2.0000</td>\n",
       "      <td>1.0000</td>\n",
       "    </tr>\n",
       "    <tr>\n",
       "      <th>13042</th>\n",
       "      <td>Sun Country Airlines</td>\n",
       "      <td>5</td>\n",
       "      <td>\"Continue doing an amazing job\"</td>\n",
       "      <td>30th July 2021</td>\n",
       "      <td>Thanks for having staff like Khiry Morgan. T...</td>\n",
       "      <td>NaN</td>\n",
       "      <td>Family Leisure</td>\n",
       "      <td>Economy Class</td>\n",
       "      <td>Minneapolis to Los Angeles</td>\n",
       "      <td>July 2021</td>\n",
       "      <td>2.0000</td>\n",
       "      <td>3.0000</td>\n",
       "      <td>NaN</td>\n",
       "      <td>1.0000</td>\n",
       "      <td>1.0000</td>\n",
       "      <td>1.0000</td>\n",
       "    </tr>\n",
       "  </tbody>\n",
       "</table>\n",
       "</div>"
      ],
      "text/plain": [
       "               Airline Name Overall_Rating                        Review_Title        Review Date  \\\n",
       "6012               Rwandair              7  \"flight attendants full of smiles\"  1st February 2016   \n",
       "11143    Ethiopian Airlines              7  \"helped us when we needed it most\"    28th April 2022   \n",
       "13042  Sun Country Airlines              5     \"Continue doing an amazing job\"     30th July 2021   \n",
       "\n",
       "                                                  Review Aircraft Type Of Traveller  \\\n",
       "6012   I flew with Rwandair for the first time in Jul...      NaN          Business   \n",
       "11143    My dad, sister, uncle and I are traveling to...      NaN    Family Leisure   \n",
       "13042    Thanks for having staff like Khiry Morgan. T...      NaN    Family Leisure   \n",
       "\n",
       "            Seat Type                                 Route  Date Flown  Seat Comfort  \\\n",
       "6012   Business Class                            DAR to KGL   July 2015        3.0000   \n",
       "11143   Economy Class  Washington to Harare via Addis Ababa  April 2022        2.0000   \n",
       "13042   Economy Class            Minneapolis to Los Angeles   July 2021        2.0000   \n",
       "\n",
       "       Cabin Staff Service  Food & Beverages  Ground Service  Inflight Entertainment  \\\n",
       "6012                4.0000            3.0000          3.0000                  1.0000   \n",
       "11143               4.0000            4.0000          5.0000                  2.0000   \n",
       "13042               3.0000               NaN          1.0000                  1.0000   \n",
       "\n",
       "       Wifi & Connectivity  \n",
       "6012                1.0000  \n",
       "11143               1.0000  \n",
       "13042               1.0000  "
      ]
     },
     "execution_count": 29,
     "metadata": {},
     "output_type": "execute_result"
    }
   ],
   "source": [
    "# Aqui faço a leitura da base de dados a partir da variável 'project_data_path', na pasta 'raw' e o arquivo 'Travel_Chalenge.csv'\n",
    "\n",
    "df = pd.read_csv(os.path.join(project_data_path, 'raw', 'Travel_Chalenge.csv'), sep = ';')\n",
    "df.sample(3) # Uma amostra aleatória de 3 registros dos dados"
   ]
  },
  {
   "cell_type": "markdown",
   "metadata": {},
   "source": [
    "Para verificar o impacto de atrasos de viagem no NPS, resolvi buscar essa informação diretamente nos textos das reviews e a partir disso realizar as seguintes etapas:"
   ]
  },
  {
   "cell_type": "markdown",
   "metadata": {},
   "source": [
    "- Filtrar na base de teste 3 companhias aéreas\n",
    "- Com o modelo de machine learning (model.predict()) prever as labels (negativo, neutro, positivo)\n",
    "- Calcular NPS (%positivos-%negativos) usando a previsão dada pelo modelo\n",
    "- Filtrar comentários que não contenham \"Delay\" e que contenham\n",
    "- Fazer os cálculos de NPS\n",
    "- Mostrar a diferença / impacto do atraso no NPS."
   ]
  },
  {
   "cell_type": "markdown",
   "metadata": {},
   "source": [
    "Além disso, para interpretar o valor do NPS, adotei a classificação:\n",
    "\n",
    "- **Promotores (Pontuação 9-10)**: Clientes entusiasmados que são propensos a recomendar a empresa e a se engajar mais profundamente.\n",
    "- **Neutros (Pontuação 7-8)**: Clientes satisfeitos, mas não tão entusiásticos a ponto de recomendar ativamente.\n",
    "- **Detratores (Pontuação 0-6)**: Clientes insatisfeitos que podem divulgar uma opinião negativa e prejudicar a reputação da empresa."
   ]
  },
  {
   "cell_type": "markdown",
   "metadata": {},
   "source": [
    "# Sorteando 3 companhias aéreas"
   ]
  },
  {
   "cell_type": "code",
   "execution_count": 30,
   "metadata": {},
   "outputs": [
    {
     "data": {
      "text/html": [
       "<div>\n",
       "<style scoped>\n",
       "    .dataframe tbody tr th:only-of-type {\n",
       "        vertical-align: middle;\n",
       "    }\n",
       "\n",
       "    .dataframe tbody tr th {\n",
       "        vertical-align: top;\n",
       "    }\n",
       "\n",
       "    .dataframe thead th {\n",
       "        text-align: right;\n",
       "    }\n",
       "</style>\n",
       "<table border=\"1\" class=\"dataframe\">\n",
       "  <thead>\n",
       "    <tr style=\"text-align: right;\">\n",
       "      <th></th>\n",
       "      <th>Airline Name</th>\n",
       "      <th>Overall_Rating</th>\n",
       "      <th>Review_Title</th>\n",
       "      <th>Review Date</th>\n",
       "      <th>Review</th>\n",
       "      <th>Aircraft</th>\n",
       "      <th>Type Of Traveller</th>\n",
       "      <th>Seat Type</th>\n",
       "      <th>Route</th>\n",
       "      <th>Date Flown</th>\n",
       "      <th>Seat Comfort</th>\n",
       "      <th>Cabin Staff Service</th>\n",
       "      <th>Food &amp; Beverages</th>\n",
       "      <th>Ground Service</th>\n",
       "      <th>Inflight Entertainment</th>\n",
       "      <th>Wifi &amp; Connectivity</th>\n",
       "    </tr>\n",
       "  </thead>\n",
       "  <tbody>\n",
       "    <tr>\n",
       "      <th>82</th>\n",
       "      <td>Condor Airlines</td>\n",
       "      <td>1</td>\n",
       "      <td>\"Never travelled in such poor conditions and f...</td>\n",
       "      <td>18th June 2022</td>\n",
       "      <td>Awful. Impossible to check in online. 20 min ...</td>\n",
       "      <td>NaN</td>\n",
       "      <td>Couple Leisure</td>\n",
       "      <td>Economy Class</td>\n",
       "      <td>Toronto to Paris via Frankfurt</td>\n",
       "      <td>June 2022</td>\n",
       "      <td>1.0000</td>\n",
       "      <td>1.0000</td>\n",
       "      <td>1.0000</td>\n",
       "      <td>1.0000</td>\n",
       "      <td>1.0000</td>\n",
       "      <td>1.0000</td>\n",
       "    </tr>\n",
       "    <tr>\n",
       "      <th>146</th>\n",
       "      <td>Condor Airlines</td>\n",
       "      <td>1</td>\n",
       "      <td>\"baggage has still not been located\"</td>\n",
       "      <td>22nd June 2022</td>\n",
       "      <td>Traveled for a family camping trip and Condo...</td>\n",
       "      <td>NaN</td>\n",
       "      <td>Couple Leisure</td>\n",
       "      <td>Economy Class</td>\n",
       "      <td>Amsterdam to Portland via Frankfurt</td>\n",
       "      <td>June 2022</td>\n",
       "      <td>1.0000</td>\n",
       "      <td>1.0000</td>\n",
       "      <td>1.0000</td>\n",
       "      <td>1.0000</td>\n",
       "      <td>1.0000</td>\n",
       "      <td>1.0000</td>\n",
       "    </tr>\n",
       "    <tr>\n",
       "      <th>133</th>\n",
       "      <td>Condor Airlines</td>\n",
       "      <td>2</td>\n",
       "      <td>\"customer service was pathetically bad\"</td>\n",
       "      <td>21st July 2022</td>\n",
       "      <td>Everything written above about Condor is tru...</td>\n",
       "      <td>NaN</td>\n",
       "      <td>Family Leisure</td>\n",
       "      <td>Economy Class</td>\n",
       "      <td>Helsinki to Havana via Frankfurt</td>\n",
       "      <td>June 2022</td>\n",
       "      <td>1.0000</td>\n",
       "      <td>2.0000</td>\n",
       "      <td>1.0000</td>\n",
       "      <td>1.0000</td>\n",
       "      <td>1.0000</td>\n",
       "      <td>1.0000</td>\n",
       "    </tr>\n",
       "  </tbody>\n",
       "</table>\n",
       "</div>"
      ],
      "text/plain": [
       "        Airline Name Overall_Rating                                       Review_Title  \\\n",
       "82   Condor Airlines              1  \"Never travelled in such poor conditions and f...   \n",
       "146  Condor Airlines              1               \"baggage has still not been located\"   \n",
       "133  Condor Airlines              2            \"customer service was pathetically bad\"   \n",
       "\n",
       "        Review Date                                             Review Aircraft Type Of Traveller  \\\n",
       "82   18th June 2022   Awful. Impossible to check in online. 20 min ...      NaN    Couple Leisure   \n",
       "146  22nd June 2022    Traveled for a family camping trip and Condo...      NaN    Couple Leisure   \n",
       "133  21st July 2022    Everything written above about Condor is tru...      NaN    Family Leisure   \n",
       "\n",
       "         Seat Type                                Route Date Flown  Seat Comfort  \\\n",
       "82   Economy Class       Toronto to Paris via Frankfurt  June 2022        1.0000   \n",
       "146  Economy Class  Amsterdam to Portland via Frankfurt  June 2022        1.0000   \n",
       "133  Economy Class     Helsinki to Havana via Frankfurt  June 2022        1.0000   \n",
       "\n",
       "     Cabin Staff Service  Food & Beverages  Ground Service  Inflight Entertainment  \\\n",
       "82                1.0000            1.0000          1.0000                  1.0000   \n",
       "146               1.0000            1.0000          1.0000                  1.0000   \n",
       "133               2.0000            1.0000          1.0000                  1.0000   \n",
       "\n",
       "     Wifi & Connectivity  \n",
       "82                1.0000  \n",
       "146               1.0000  \n",
       "133               1.0000  "
      ]
     },
     "execution_count": 30,
     "metadata": {},
     "output_type": "execute_result"
    }
   ],
   "source": [
    "# Filtrar 3 companhias aereas\n",
    "companys = df['Airline Name'].sample(3, random_state = SEED).values\n",
    "\n",
    "df = df[df['Airline Name'].isin(companys)].reset_index(drop = True)\n",
    "df.sample(3)"
   ]
  },
  {
   "cell_type": "code",
   "execution_count": 31,
   "metadata": {},
   "outputs": [
    {
     "data": {
      "text/plain": [
       "array(['Jet2.com', 'Condor Airlines', 'Air Canada'], dtype=object)"
      ]
     },
     "execution_count": 31,
     "metadata": {},
     "output_type": "execute_result"
    }
   ],
   "source": [
    "df['Airline Name'].unique() # Companhias sorteadas"
   ]
  },
  {
   "cell_type": "markdown",
   "metadata": {},
   "source": [
    "# Tratando variável `Overall_Rating` "
   ]
  },
  {
   "cell_type": "code",
   "execution_count": 32,
   "metadata": {},
   "outputs": [],
   "source": [
    "# Tratando variável de interesse\n",
    "df.loc[df['Overall_Rating'] == 'n', 'Overall_Rating'] = int(df.loc[df['Overall_Rating'] != 'n', 'Overall_Rating'].astype(int).median())\n",
    "df['Overall_Rating'] = df['Overall_Rating'].astype(int)"
   ]
  },
  {
   "cell_type": "markdown",
   "metadata": {},
   "source": [
    "# Avaliando atraso (delay) no geral"
   ]
  },
  {
   "cell_type": "markdown",
   "metadata": {},
   "source": [
    "Avaliando média de `Overall_Rating` com base nas Reviews que possuem \"delay\" no texto. "
   ]
  },
  {
   "cell_type": "code",
   "execution_count": 34,
   "metadata": {},
   "outputs": [
    {
     "data": {
      "text/plain": [
       "np.float64(1.8631578947368421)"
      ]
     },
     "execution_count": 34,
     "metadata": {},
     "output_type": "execute_result"
    }
   ],
   "source": [
    "# Com delay\n",
    "df.loc[df['Review'].str.contains('delay'), 'Overall_Rating'].mean()"
   ]
  },
  {
   "cell_type": "code",
   "execution_count": 35,
   "metadata": {},
   "outputs": [
    {
     "data": {
      "text/plain": [
       "np.float64(2.292682926829268)"
      ]
     },
     "execution_count": 35,
     "metadata": {},
     "output_type": "execute_result"
    }
   ],
   "source": [
    "# Sem delay\n",
    "df.loc[~df['Review'].str.contains('delay'), 'Overall_Rating'].mean()"
   ]
  },
  {
   "cell_type": "markdown",
   "metadata": {},
   "source": [
    "Percebe-se como a base sem os reviews relacionados a 'delay' a média é quase 1 unidade maior."
   ]
  },
  {
   "cell_type": "code",
   "execution_count": 36,
   "metadata": {},
   "outputs": [
    {
     "data": {
      "text/plain": [
       "np.float64(2.1566666666666667)"
      ]
     },
     "execution_count": 36,
     "metadata": {},
     "output_type": "execute_result"
    }
   ],
   "source": [
    "# Geral\n",
    "df['Overall_Rating'].mean()"
   ]
  },
  {
   "cell_type": "markdown",
   "metadata": {},
   "source": [
    "Aparentemente no geral, reviews com 'delay' no texto parecem impactar negativamente a média de `Overall_Rating` para essa amostra de companhias. "
   ]
  },
  {
   "cell_type": "markdown",
   "metadata": {},
   "source": [
    "## Utilizando o modelo para classificar reviews"
   ]
  },
  {
   "cell_type": "code",
   "execution_count": 37,
   "metadata": {},
   "outputs": [
    {
     "data": {
      "text/html": [
       "<div>\n",
       "<style scoped>\n",
       "    .dataframe tbody tr th:only-of-type {\n",
       "        vertical-align: middle;\n",
       "    }\n",
       "\n",
       "    .dataframe tbody tr th {\n",
       "        vertical-align: top;\n",
       "    }\n",
       "\n",
       "    .dataframe thead th {\n",
       "        text-align: right;\n",
       "    }\n",
       "</style>\n",
       "<table border=\"1\" class=\"dataframe\">\n",
       "  <thead>\n",
       "    <tr style=\"text-align: right;\">\n",
       "      <th></th>\n",
       "      <th>Review</th>\n",
       "      <th>Review_Title</th>\n",
       "    </tr>\n",
       "  </thead>\n",
       "  <tbody>\n",
       "    <tr>\n",
       "      <th>288</th>\n",
       "      <td>I am disgusted with this company. I have flo...</td>\n",
       "      <td>\"disgusted with this company\"</td>\n",
       "    </tr>\n",
       "    <tr>\n",
       "      <th>13</th>\n",
       "      <td>We checked in for our business class flight ...</td>\n",
       "      <td>\"never set foot on a Condor flight again\"</td>\n",
       "    </tr>\n",
       "    <tr>\n",
       "      <th>107</th>\n",
       "      <td>Stansted to Thessaloniki. Booked holiday thr...</td>\n",
       "      <td>\"unwilling to refund deposit\"</td>\n",
       "    </tr>\n",
       "  </tbody>\n",
       "</table>\n",
       "</div>"
      ],
      "text/plain": [
       "                                                Review                               Review_Title\n",
       "288    I am disgusted with this company. I have flo...              \"disgusted with this company\"\n",
       "13     We checked in for our business class flight ...  \"never set foot on a Condor flight again\"\n",
       "107    Stansted to Thessaloniki. Booked holiday thr...              \"unwilling to refund deposit\""
      ]
     },
     "execution_count": 37,
     "metadata": {},
     "output_type": "execute_result"
    }
   ],
   "source": [
    "df_aux = df[['Review', 'Review_Title']].copy()\n",
    "df_aux.sample(3) "
   ]
  },
  {
   "cell_type": "code",
   "execution_count": 38,
   "metadata": {},
   "outputs": [],
   "source": [
    "y_pred = model.predict(df_aux)"
   ]
  },
  {
   "cell_type": "code",
   "execution_count": 39,
   "metadata": {},
   "outputs": [
    {
     "data": {
      "text/plain": [
       "array([0, 0, 0, 0, 0, 0, 0, 0, 0, 0, 2, 0, 0, 0, 0, 0, 0, 2, 0, 0, 0, 0,\n",
       "       0, 0, 0, 0, 0, 0, 0, 0, 2, 0, 0, 0, 0, 0, 0, 0, 0, 0, 0, 0, 2, 0,\n",
       "       0, 0, 0, 2, 0, 0, 0, 0, 0, 0, 0, 0, 0, 0, 0, 0, 0, 0, 0, 0, 0, 0,\n",
       "       0, 0, 0, 0, 0, 0, 0, 0, 0, 0, 0, 0, 0, 0, 0, 0, 0, 0, 0, 0, 0, 0,\n",
       "       0, 0, 0, 0, 0, 0, 0, 0, 0, 0, 0, 0, 0, 0, 0, 0, 0, 0, 2, 0, 0, 0,\n",
       "       0, 0, 2, 0, 0, 0, 0, 0, 0, 0, 0, 0, 0, 0, 0, 0, 0, 1, 2, 0, 0, 0,\n",
       "       0, 0, 0, 0, 0, 0, 0, 2, 0, 0, 0, 0, 0, 0, 0, 0, 0, 0, 0, 0, 0, 2,\n",
       "       0, 0, 0, 0, 0, 0, 2, 0, 0, 0, 0, 0, 0, 0, 0, 0, 2, 0, 0, 0, 0, 0,\n",
       "       0, 0, 0, 0, 0, 0, 2, 0, 0, 0, 0, 0, 0, 0, 0, 0, 0, 0, 0, 0, 0, 0,\n",
       "       2, 0, 0, 0, 2, 0, 0, 2, 0, 0, 0, 0, 0, 0, 0, 0, 2, 0, 0, 0, 0, 0,\n",
       "       0, 0, 0, 0, 0, 0, 0, 0, 0, 0, 0, 0, 0, 2, 0, 0, 0, 0, 0, 0, 0, 2,\n",
       "       2, 0, 0, 0, 0, 0, 0, 0, 0, 0, 0, 0, 0, 0, 0, 0, 0, 0, 0, 0, 0, 0,\n",
       "       0, 0, 0, 0, 0, 0, 0, 0, 0, 0, 0, 0, 0, 0, 0, 0, 0, 0, 0, 0, 0, 0,\n",
       "       0, 0, 0, 2, 0, 0, 0, 0, 0, 0, 0, 0, 0, 0])"
      ]
     },
     "execution_count": 39,
     "metadata": {},
     "output_type": "execute_result"
    }
   ],
   "source": [
    "y_pred"
   ]
  },
  {
   "cell_type": "code",
   "execution_count": 41,
   "metadata": {},
   "outputs": [],
   "source": [
    "df_aux['sentimental_predict'] = pd.Series(y_pred).map({0: 'negative', 1: 'neutral', 2: 'positive'})"
   ]
  },
  {
   "cell_type": "code",
   "execution_count": 49,
   "metadata": {},
   "outputs": [
    {
     "data": {
      "text/html": [
       "<div>\n",
       "<style scoped>\n",
       "    .dataframe tbody tr th:only-of-type {\n",
       "        vertical-align: middle;\n",
       "    }\n",
       "\n",
       "    .dataframe tbody tr th {\n",
       "        vertical-align: top;\n",
       "    }\n",
       "\n",
       "    .dataframe thead th {\n",
       "        text-align: right;\n",
       "    }\n",
       "</style>\n",
       "<table border=\"1\" class=\"dataframe\">\n",
       "  <thead>\n",
       "    <tr style=\"text-align: right;\">\n",
       "      <th></th>\n",
       "      <th>Review</th>\n",
       "      <th>Review_Title</th>\n",
       "      <th>sentimental_predict</th>\n",
       "    </tr>\n",
       "  </thead>\n",
       "  <tbody>\n",
       "    <tr>\n",
       "      <th>0</th>\n",
       "      <td>Barcelona to Manchester with Jet2.com. First t...</td>\n",
       "      <td>\"Service was great\"</td>\n",
       "      <td>negative</td>\n",
       "    </tr>\n",
       "    <tr>\n",
       "      <th>1</th>\n",
       "      <td>Frankfurt to Cancun. Misleading upgrading pr...</td>\n",
       "      <td>\"Misleading upgrading process\"</td>\n",
       "      <td>negative</td>\n",
       "    </tr>\n",
       "    <tr>\n",
       "      <th>2</th>\n",
       "      <td>Manchester to Funchal return on rather elder...</td>\n",
       "      <td>\"On board service was good\"</td>\n",
       "      <td>negative</td>\n",
       "    </tr>\n",
       "    <tr>\n",
       "      <th>3</th>\n",
       "      <td>I think this is the 5th time I’ve flown with ...</td>\n",
       "      <td>\"Air Canada is inconsistent\"</td>\n",
       "      <td>negative</td>\n",
       "    </tr>\n",
       "    <tr>\n",
       "      <th>4</th>\n",
       "      <td>Air Canada cancelled our flight two hours be...</td>\n",
       "      <td>\"cancelled our flight two hours before\"</td>\n",
       "      <td>negative</td>\n",
       "    </tr>\n",
       "    <tr>\n",
       "      <th>...</th>\n",
       "      <td>...</td>\n",
       "      <td>...</td>\n",
       "      <td>...</td>\n",
       "    </tr>\n",
       "    <tr>\n",
       "      <th>295</th>\n",
       "      <td>The customer service agent at the Montreal-Tr...</td>\n",
       "      <td>\"This airline needs to wake up\"</td>\n",
       "      <td>negative</td>\n",
       "    </tr>\n",
       "    <tr>\n",
       "      <th>296</th>\n",
       "      <td>Frankfurt to Cancun. Never fly with Condor a...</td>\n",
       "      <td>\"everything like a budget flight\"</td>\n",
       "      <td>negative</td>\n",
       "    </tr>\n",
       "    <tr>\n",
       "      <th>297</th>\n",
       "      <td>So have used Jet2, recommended them to family...</td>\n",
       "      <td>\"They again trotted out the same excuse\"\\r\\n**...</td>\n",
       "      <td>negative</td>\n",
       "    </tr>\n",
       "    <tr>\n",
       "      <th>298</th>\n",
       "      <td>I received an email 1 hour before the flight...</td>\n",
       "      <td>\"flight got postponed for 24 hours\"</td>\n",
       "      <td>negative</td>\n",
       "    </tr>\n",
       "    <tr>\n",
       "      <th>299</th>\n",
       "      <td>Beware - bait and switch and false advertisi...</td>\n",
       "      <td>\"Beware - bait and switch and false advertising\"</td>\n",
       "      <td>negative</td>\n",
       "    </tr>\n",
       "  </tbody>\n",
       "</table>\n",
       "<p>300 rows × 3 columns</p>\n",
       "</div>"
      ],
      "text/plain": [
       "                                                Review  \\\n",
       "0    Barcelona to Manchester with Jet2.com. First t...   \n",
       "1      Frankfurt to Cancun. Misleading upgrading pr...   \n",
       "2      Manchester to Funchal return on rather elder...   \n",
       "3     I think this is the 5th time I’ve flown with ...   \n",
       "4      Air Canada cancelled our flight two hours be...   \n",
       "..                                                 ...   \n",
       "295   The customer service agent at the Montreal-Tr...   \n",
       "296    Frankfurt to Cancun. Never fly with Condor a...   \n",
       "297   So have used Jet2, recommended them to family...   \n",
       "298    I received an email 1 hour before the flight...   \n",
       "299    Beware - bait and switch and false advertisi...   \n",
       "\n",
       "                                          Review_Title sentimental_predict  \n",
       "0                                  \"Service was great\"            negative  \n",
       "1                       \"Misleading upgrading process\"            negative  \n",
       "2                          \"On board service was good\"            negative  \n",
       "3                         \"Air Canada is inconsistent\"            negative  \n",
       "4              \"cancelled our flight two hours before\"            negative  \n",
       "..                                                 ...                 ...  \n",
       "295                    \"This airline needs to wake up\"            negative  \n",
       "296                  \"everything like a budget flight\"            negative  \n",
       "297  \"They again trotted out the same excuse\"\\r\\n**...            negative  \n",
       "298                \"flight got postponed for 24 hours\"            negative  \n",
       "299   \"Beware - bait and switch and false advertising\"            negative  \n",
       "\n",
       "[300 rows x 3 columns]"
      ]
     },
     "execution_count": 49,
     "metadata": {},
     "output_type": "execute_result"
    }
   ],
   "source": [
    "df_aux"
   ]
  },
  {
   "cell_type": "code",
   "execution_count": 55,
   "metadata": {},
   "outputs": [],
   "source": [
    "df = df_aux.merge(df, how = 'inner')"
   ]
  },
  {
   "cell_type": "code",
   "execution_count": 56,
   "metadata": {},
   "outputs": [
    {
     "data": {
      "text/html": [
       "<div>\n",
       "<style scoped>\n",
       "    .dataframe tbody tr th:only-of-type {\n",
       "        vertical-align: middle;\n",
       "    }\n",
       "\n",
       "    .dataframe tbody tr th {\n",
       "        vertical-align: top;\n",
       "    }\n",
       "\n",
       "    .dataframe thead th {\n",
       "        text-align: right;\n",
       "    }\n",
       "</style>\n",
       "<table border=\"1\" class=\"dataframe\">\n",
       "  <thead>\n",
       "    <tr style=\"text-align: right;\">\n",
       "      <th></th>\n",
       "      <th>Review</th>\n",
       "      <th>Review_Title</th>\n",
       "      <th>sentimental_predict</th>\n",
       "      <th>Airline Name</th>\n",
       "      <th>Overall_Rating</th>\n",
       "      <th>Review Date</th>\n",
       "      <th>Aircraft</th>\n",
       "      <th>Type Of Traveller</th>\n",
       "      <th>Seat Type</th>\n",
       "      <th>Route</th>\n",
       "      <th>Date Flown</th>\n",
       "      <th>Seat Comfort</th>\n",
       "      <th>Cabin Staff Service</th>\n",
       "      <th>Food &amp; Beverages</th>\n",
       "      <th>Ground Service</th>\n",
       "      <th>Inflight Entertainment</th>\n",
       "      <th>Wifi &amp; Connectivity</th>\n",
       "    </tr>\n",
       "  </thead>\n",
       "  <tbody>\n",
       "    <tr>\n",
       "      <th>0</th>\n",
       "      <td>Barcelona to Manchester with Jet2.com. First t...</td>\n",
       "      <td>\"Service was great\"</td>\n",
       "      <td>negative</td>\n",
       "      <td>Jet2.com</td>\n",
       "      <td>1</td>\n",
       "      <td>10th December 2019</td>\n",
       "      <td>NaN</td>\n",
       "      <td>Couple Leisure</td>\n",
       "      <td>Economy Class</td>\n",
       "      <td>Barcelona to Manchester</td>\n",
       "      <td>November 2019</td>\n",
       "      <td>4.0000</td>\n",
       "      <td>5.0000</td>\n",
       "      <td>4.0000</td>\n",
       "      <td>5.0000</td>\n",
       "      <td>NaN</td>\n",
       "      <td>NaN</td>\n",
       "    </tr>\n",
       "    <tr>\n",
       "      <th>1</th>\n",
       "      <td>Frankfurt to Cancun. Misleading upgrading pr...</td>\n",
       "      <td>\"Misleading upgrading process\"</td>\n",
       "      <td>negative</td>\n",
       "      <td>Condor Airlines</td>\n",
       "      <td>1</td>\n",
       "      <td>10th February 2020</td>\n",
       "      <td>Boeing 767-300ER</td>\n",
       "      <td>Couple Leisure</td>\n",
       "      <td>Premium Economy</td>\n",
       "      <td>Frankfurt to Cancun</td>\n",
       "      <td>January 2020</td>\n",
       "      <td>1.0000</td>\n",
       "      <td>1.0000</td>\n",
       "      <td>2.0000</td>\n",
       "      <td>1.0000</td>\n",
       "      <td>1.0000</td>\n",
       "      <td>NaN</td>\n",
       "    </tr>\n",
       "    <tr>\n",
       "      <th>2</th>\n",
       "      <td>Manchester to Funchal return on rather elder...</td>\n",
       "      <td>\"On board service was good\"</td>\n",
       "      <td>negative</td>\n",
       "      <td>Jet2.com</td>\n",
       "      <td>7</td>\n",
       "      <td>10th January 2019</td>\n",
       "      <td>Boeing 757-200</td>\n",
       "      <td>Couple Leisure</td>\n",
       "      <td>Economy Class</td>\n",
       "      <td>Funchal to Manchester</td>\n",
       "      <td>January 2019</td>\n",
       "      <td>2.0000</td>\n",
       "      <td>4.0000</td>\n",
       "      <td>3.0000</td>\n",
       "      <td>4.0000</td>\n",
       "      <td>NaN</td>\n",
       "      <td>NaN</td>\n",
       "    </tr>\n",
       "    <tr>\n",
       "      <th>3</th>\n",
       "      <td>I think this is the 5th time I’ve flown with ...</td>\n",
       "      <td>\"Air Canada is inconsistent\"</td>\n",
       "      <td>negative</td>\n",
       "      <td>Air Canada</td>\n",
       "      <td>1</td>\n",
       "      <td>10th July 2023</td>\n",
       "      <td>NaN</td>\n",
       "      <td>Business</td>\n",
       "      <td>Economy Class</td>\n",
       "      <td>Vancouver to Edmonton</td>\n",
       "      <td>July 2023</td>\n",
       "      <td>1.0000</td>\n",
       "      <td>2.0000</td>\n",
       "      <td>NaN</td>\n",
       "      <td>1.0000</td>\n",
       "      <td>1.0000</td>\n",
       "      <td>1.0000</td>\n",
       "    </tr>\n",
       "    <tr>\n",
       "      <th>4</th>\n",
       "      <td>Air Canada cancelled our flight two hours be...</td>\n",
       "      <td>\"cancelled our flight two hours before\"</td>\n",
       "      <td>negative</td>\n",
       "      <td>Air Canada</td>\n",
       "      <td>1</td>\n",
       "      <td>10th July 2023</td>\n",
       "      <td>NaN</td>\n",
       "      <td>Family Leisure</td>\n",
       "      <td>Economy Class</td>\n",
       "      <td>Calgary to Los Angeles</td>\n",
       "      <td>July 2023</td>\n",
       "      <td>NaN</td>\n",
       "      <td>NaN</td>\n",
       "      <td>NaN</td>\n",
       "      <td>1.0000</td>\n",
       "      <td>NaN</td>\n",
       "      <td>NaN</td>\n",
       "    </tr>\n",
       "  </tbody>\n",
       "</table>\n",
       "</div>"
      ],
      "text/plain": [
       "                                              Review                             Review_Title  \\\n",
       "0  Barcelona to Manchester with Jet2.com. First t...                      \"Service was great\"   \n",
       "1    Frankfurt to Cancun. Misleading upgrading pr...           \"Misleading upgrading process\"   \n",
       "2    Manchester to Funchal return on rather elder...              \"On board service was good\"   \n",
       "3   I think this is the 5th time I’ve flown with ...             \"Air Canada is inconsistent\"   \n",
       "4    Air Canada cancelled our flight two hours be...  \"cancelled our flight two hours before\"   \n",
       "\n",
       "  sentimental_predict     Airline Name  Overall_Rating         Review Date          Aircraft  \\\n",
       "0            negative         Jet2.com               1  10th December 2019               NaN   \n",
       "1            negative  Condor Airlines               1  10th February 2020  Boeing 767-300ER   \n",
       "2            negative         Jet2.com               7   10th January 2019    Boeing 757-200   \n",
       "3            negative       Air Canada               1      10th July 2023               NaN   \n",
       "4            negative       Air Canada               1      10th July 2023               NaN   \n",
       "\n",
       "  Type Of Traveller        Seat Type                    Route     Date Flown  Seat Comfort  \\\n",
       "0    Couple Leisure    Economy Class  Barcelona to Manchester  November 2019        4.0000   \n",
       "1    Couple Leisure  Premium Economy      Frankfurt to Cancun   January 2020        1.0000   \n",
       "2    Couple Leisure    Economy Class    Funchal to Manchester   January 2019        2.0000   \n",
       "3          Business    Economy Class    Vancouver to Edmonton      July 2023        1.0000   \n",
       "4    Family Leisure    Economy Class  Calgary to Los Angeles       July 2023           NaN   \n",
       "\n",
       "   Cabin Staff Service  Food & Beverages  Ground Service  Inflight Entertainment  \\\n",
       "0               5.0000            4.0000          5.0000                     NaN   \n",
       "1               1.0000            2.0000          1.0000                  1.0000   \n",
       "2               4.0000            3.0000          4.0000                     NaN   \n",
       "3               2.0000               NaN          1.0000                  1.0000   \n",
       "4                  NaN               NaN          1.0000                     NaN   \n",
       "\n",
       "   Wifi & Connectivity  \n",
       "0                  NaN  \n",
       "1                  NaN  \n",
       "2                  NaN  \n",
       "3               1.0000  \n",
       "4                  NaN  "
      ]
     },
     "execution_count": 56,
     "metadata": {},
     "output_type": "execute_result"
    }
   ],
   "source": [
    "df.head()"
   ]
  },
  {
   "cell_type": "code",
   "execution_count": 61,
   "metadata": {},
   "outputs": [],
   "source": [
    "# Filtrando as companhias\n",
    "\n",
    "company1 = df.loc[df['Airline Name'] == 'Jet2.com']\n",
    "company2 = df.loc[df['Airline Name'] == 'Condor Airlines']\n",
    "company3 = df.loc[df['Airline Name'] == 'Air Canada']"
   ]
  },
  {
   "cell_type": "code",
   "execution_count": 63,
   "metadata": {},
   "outputs": [],
   "source": [
    "# NPS\n",
    "\n",
    "def calc_nps(data):\n",
    "    pct_positives = data.loc[data['sentimental_predict'] == 'positive'].shape[0] / data.shape[0]\n",
    "    pct_negatives = data.loc[data['sentimental_predict'] == 'negative'].shape[0] / data.shape[0]\n",
    "    nps = pct_positives - pct_negatives\n",
    "    return nps"
   ]
  },
  {
   "cell_type": "markdown",
   "metadata": {},
   "source": [
    "## Calculando NPS para companhia 1 (Jet2.com)"
   ]
  },
  {
   "cell_type": "code",
   "execution_count": 64,
   "metadata": {},
   "outputs": [
    {
     "data": {
      "text/plain": [
       "-0.72"
      ]
     },
     "execution_count": 64,
     "metadata": {},
     "output_type": "execute_result"
    }
   ],
   "source": [
    "# NPS geral\n",
    "calc_nps(company1)"
   ]
  },
  {
   "cell_type": "markdown",
   "metadata": {},
   "source": [
    "No caso da companhia Jet2.com, o NPS indica que há mais detratores do que promotores, o que pode sinalizar problemas com a companhia ou serviços."
   ]
  },
  {
   "cell_type": "code",
   "execution_count": 73,
   "metadata": {},
   "outputs": [
    {
     "data": {
      "text/plain": [
       "(-1.0, -0.6499999999999999)"
      ]
     },
     "execution_count": 73,
     "metadata": {},
     "output_type": "execute_result"
    }
   ],
   "source": [
    "# Calculando NPS para delays\n",
    "\n",
    "reviews_delay_company1 = company1[company1['Review'].str.contains('delay')]\n",
    "reviews_nodelay_company1 = company1[~company1['Review'].str.contains('delay')]\n",
    "\n",
    "# Informações gerais\n",
    "\n",
    "calc_nps(reviews_delay_company1), calc_nps(reviews_nodelay_company1)"
   ]
  },
  {
   "cell_type": "code",
   "execution_count": 74,
   "metadata": {},
   "outputs": [
    {
     "data": {
      "text/plain": [
       "-0.3500000000000001"
      ]
     },
     "execution_count": 74,
     "metadata": {},
     "output_type": "execute_result"
    }
   ],
   "source": [
    "calc_nps(reviews_delay_company1) - calc_nps(reviews_nodelay_company1)"
   ]
  },
  {
   "cell_type": "markdown",
   "metadata": {},
   "source": [
    "nota-se que reviews que contem 'delay' no texto concentram bem mais detratores que no caso das reviews sem essa palavra-chave."
   ]
  },
  {
   "cell_type": "markdown",
   "metadata": {},
   "source": [
    "## Calculando NPS para companhia 2 (Condor Airlines)"
   ]
  },
  {
   "cell_type": "code",
   "execution_count": 69,
   "metadata": {},
   "outputs": [
    {
     "data": {
      "text/plain": [
       "-0.9099999999999999"
      ]
     },
     "execution_count": 69,
     "metadata": {},
     "output_type": "execute_result"
    }
   ],
   "source": [
    "# NPS geral\n",
    "calc_nps(company2)"
   ]
  },
  {
   "cell_type": "code",
   "execution_count": 75,
   "metadata": {},
   "outputs": [
    {
     "data": {
      "text/plain": [
       "(-0.9428571428571428, -0.8923076923076922)"
      ]
     },
     "execution_count": 75,
     "metadata": {},
     "output_type": "execute_result"
    }
   ],
   "source": [
    "# Calculando NPS para delays\n",
    "\n",
    "reviews_delay_company2 = company2[company2['Review'].str.contains('delay')]\n",
    "reviews_nodelay_company2 = company2[~company2['Review'].str.contains('delay')]\n",
    "\n",
    "# Informações gerais\n",
    "\n",
    "calc_nps(reviews_delay_company2), calc_nps(reviews_nodelay_company2)"
   ]
  },
  {
   "cell_type": "markdown",
   "metadata": {},
   "source": [
    "Mais um caso de um NPS maior para reviews que contém 'delay'"
   ]
  },
  {
   "cell_type": "markdown",
   "metadata": {},
   "source": [
    "## Calculando NPS para companhia 3 (Air Canada)"
   ]
  },
  {
   "cell_type": "code",
   "execution_count": 71,
   "metadata": {},
   "outputs": [
    {
     "data": {
      "text/plain": [
       "-0.94"
      ]
     },
     "execution_count": 71,
     "metadata": {},
     "output_type": "execute_result"
    }
   ],
   "source": [
    "# NPS geral\n",
    "calc_nps(company3)"
   ]
  },
  {
   "cell_type": "code",
   "execution_count": 76,
   "metadata": {},
   "outputs": [
    {
     "data": {
      "text/plain": [
       "(-1.0, -0.8999999999999999)"
      ]
     },
     "execution_count": 76,
     "metadata": {},
     "output_type": "execute_result"
    }
   ],
   "source": [
    "# Calculando NPS para delays\n",
    "\n",
    "reviews_delay_company3 = company3[company3['Review'].str.contains('delay')]\n",
    "reviews_nodelay_company3 = company3[~company3['Review'].str.contains('delay')]\n",
    "\n",
    "# Informações gerais\n",
    "\n",
    "calc_nps(reviews_delay_company3), calc_nps(reviews_nodelay_company3)"
   ]
  },
  {
   "cell_type": "markdown",
   "metadata": {},
   "source": [
    "Outro caso onde reviews com 'delay' possuem menor NPS. "
   ]
  },
  {
   "cell_type": "markdown",
   "metadata": {},
   "source": [
    "# Conclusão"
   ]
  },
  {
   "cell_type": "markdown",
   "metadata": {},
   "source": [
    "Como conclusão, o uso do modelo para a tarefa de estimar os sentimentos dos textos funcionou bem e parece funcionar bem para estimar o NPS das companhias.  \n",
    "Além disso, de acordo com o NPS calculado, reviews que possuem 'delay' (atraso) no texto realmente possuem um valor de NPS menor comparado as reviews sem 'delay' e a base geral, indicando que **os atrasos impactam diretamente no NPS das companhias.**"
   ]
  }
 ],
 "metadata": {
  "kernelspec": {
   "display_name": "env",
   "language": "python",
   "name": "python3"
  },
  "language_info": {
   "codemirror_mode": {
    "name": "ipython",
    "version": 3
   },
   "file_extension": ".py",
   "mimetype": "text/x-python",
   "name": "python",
   "nbconvert_exporter": "python",
   "pygments_lexer": "ipython3",
   "version": "3.9.13"
  }
 },
 "nbformat": 4,
 "nbformat_minor": 2
}
