{
 "cells": [
  {
   "cell_type": "code",
   "execution_count": 6,
   "metadata": {},
   "outputs": [
    {
     "ename": "ImportError",
     "evalue": "cannot import name 'CustomImputer' from 'transformers' (c:\\Users\\CPU\\Documents\\Samuel\\Estudo\\Repositorio_Local\\Python\\dhauz\\Travel_Challenge\\notebooks\\../transformers\\transformers.py)",
     "output_type": "error",
     "traceback": [
      "\u001b[1;31m---------------------------------------------------------------------------\u001b[0m",
      "\u001b[1;31mImportError\u001b[0m                               Traceback (most recent call last)",
      "Cell \u001b[1;32mIn[6], line 39\u001b[0m\n\u001b[0;32m     36\u001b[0m src_path \u001b[38;5;241m=\u001b[39m \u001b[38;5;124m'\u001b[39m\u001b[38;5;124m../transformers\u001b[39m\u001b[38;5;124m'\u001b[39m \n\u001b[0;32m     37\u001b[0m sys\u001b[38;5;241m.\u001b[39mpath\u001b[38;5;241m.\u001b[39minsert(\u001b[38;5;241m0\u001b[39m, src_path)\n\u001b[1;32m---> 39\u001b[0m \u001b[38;5;28;01mfrom\u001b[39;00m \u001b[38;5;21;01mtransformers\u001b[39;00m \u001b[38;5;28;01mimport\u001b[39;00m CombineTextColumns, FullTextPreprocessor, CustomImputer\n",
      "\u001b[1;31mImportError\u001b[0m: cannot import name 'CustomImputer' from 'transformers' (c:\\Users\\CPU\\Documents\\Samuel\\Estudo\\Repositorio_Local\\Python\\dhauz\\Travel_Challenge\\notebooks\\../transformers\\transformers.py)"
     ]
    }
   ],
   "source": [
    "# LIBS\n",
    "import os\n",
    "import sys\n",
    "import pandas as pd\n",
    "import numpy as np\n",
    "import matplotlib.pyplot as plt\n",
    "from sklearn.model_selection import train_test_split\n",
    "from nltk.corpus import stopwords\n",
    "from nltk.stem import WordNetLemmatizer\n",
    "from sklearn.feature_extraction.text import TfidfVectorizer\n",
    "from sklearn.pipeline import Pipeline\n",
    "from sklearn.linear_model import LogisticRegression\n",
    "from sklearn.metrics import classification_report, accuracy_score, recall_score, precision_score, f1_score, roc_auc_score\n",
    "from sklearn.model_selection import StratifiedKFold, RandomizedSearchCV, cross_val_score\n",
    "from sklearn.preprocessing import StandardScaler, label_binarize\n",
    "import re\n",
    "import warnings \n",
    "from sklearn.base import BaseEstimator, TransformerMixin\n",
    "warnings.filterwarnings('ignore') \n",
    "import seaborn as sns\n",
    "import joblib\n",
    "\n",
    "# CONFIGURAÇÕES\n",
    "\n",
    "pd.set_option('display.max_rows',100) # Ajustando número máximo de linhas a serem exibidas por dataframes\n",
    "pd.set_option('display.max_columns',100) # Ajustando número máximo de colunas a serem exibidas por dataframes\n",
    "pd.set_option('display.width', 100) # Ajustando tamanho a ser exibido dos valores do dataframe\n",
    "pd.set_option('display.float_format', lambda x: '%.4f' % x) # Ajustando o valor dos valores floats para 4 casas decimais\n",
    "%config InlineBackend.figure_format = 'retina' # Ajustando a nitidez dos gráficos\n",
    "SEED = 27 # Semente para reprodução de pseudo-aleatoriedade\n",
    "\n",
    "# DIRETÓRIOS\n",
    "\n",
    "project_data_path = '../data' # Diretório da base de dados\n",
    "model_path = '../model' # Diretório para o modelo\n",
    "src_path = '../transformers' \n",
    "sys.path.insert(0, src_path)\n",
    "\n",
    "from transformers import CombineTextColumns, FullTextPreprocessor, CustomImputer"
   ]
  },
  {
   "cell_type": "code",
   "execution_count": 5,
   "metadata": {},
   "outputs": [],
   "source": [
    "# Carregando a pipeline salva\n",
    "model = joblib.load(os.path.join(model_path, 'model.pkl'))"
   ]
  },
  {
   "cell_type": "code",
   "execution_count": null,
   "metadata": {},
   "outputs": [],
   "source": []
  },
  {
   "cell_type": "code",
   "execution_count": null,
   "metadata": {},
   "outputs": [],
   "source": []
  },
  {
   "cell_type": "code",
   "execution_count": null,
   "metadata": {},
   "outputs": [],
   "source": []
  },
  {
   "cell_type": "code",
   "execution_count": null,
   "metadata": {},
   "outputs": [],
   "source": []
  }
 ],
 "metadata": {
  "kernelspec": {
   "display_name": "env",
   "language": "python",
   "name": "python3"
  },
  "language_info": {
   "codemirror_mode": {
    "name": "ipython",
    "version": 3
   },
   "file_extension": ".py",
   "mimetype": "text/x-python",
   "name": "python",
   "nbconvert_exporter": "python",
   "pygments_lexer": "ipython3",
   "version": "3.9.13"
  }
 },
 "nbformat": 4,
 "nbformat_minor": 2
}
